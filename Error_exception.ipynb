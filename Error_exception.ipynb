{
 "cells": [
  {
   "cell_type": "markdown",
   "id": "85709070",
   "metadata": {},
   "source": [
    "# Error - Exception "
   ]
  },
  {
   "cell_type": "markdown",
   "id": "4e9a36c5",
   "metadata": {},
   "source": [
    "### 1. Zero Division Error\n"
   ]
  },
  {
   "cell_type": "code",
   "execution_count": 3,
   "id": "ddd64bbd",
   "metadata": {},
   "outputs": [
    {
     "name": "stdout",
     "output_type": "stream",
     "text": [
      "Please use a non-zero value for b!\n"
     ]
    }
   ],
   "source": [
    "def division_op(a, b):\n",
    "    try:\n",
    "        return a/b\n",
    "    except ZeroDivisionError:\n",
    "        print(\"Please use a non-zero value for b!\")\n",
    "\n",
    "division_op(2,0)\n"
   ]
  },
  {
   "cell_type": "markdown",
   "id": "fd1bc209",
   "metadata": {},
   "source": [
    "\n",
    "### 2. NameError\n"
   ]
  },
  {
   "cell_type": "code",
   "execution_count": null,
   "id": "a8892c8b",
   "metadata": {},
   "outputs": [
    {
     "name": "stdout",
     "output_type": "stream",
     "text": [
      "There's a value not defined\n",
      "None\n"
     ]
    }
   ],
   "source": [
    "def add_10():\n",
    "    try:\n",
    "        return x + 10\n",
    "    except NameError:\n",
    "        print(\"There's a value not defined\")\n",
    "        pass\n",
    "\n",
    "print(add_10())"
   ]
  },
  {
   "cell_type": "markdown",
   "id": "3e5c1062",
   "metadata": {},
   "source": [
    "### 3. ValueError"
   ]
  },
  {
   "cell_type": "code",
   "execution_count": 15,
   "id": "1b291eea",
   "metadata": {},
   "outputs": [
    {
     "name": "stdout",
     "output_type": "stream",
     "text": [
      "You've entered a string. Please enter a number!\n"
     ]
    }
   ],
   "source": [
    "def hello_power(echo_num):\n",
    "    try:\n",
    "        print(\"hello \" * int(echo_num))\n",
    "    except ValueError:\n",
    "        print(\"You've entered a string. Please enter a number!\")\n",
    "\n",
    "hello_power('hello') "
   ]
  },
  {
   "cell_type": "markdown",
   "id": "99f6926b",
   "metadata": {},
   "source": [
    "\n",
    "### 4. TypeError\n",
    "\n",
    "Exp: calculate circle circumference."
   ]
  },
  {
   "cell_type": "code",
   "execution_count": 14,
   "id": "646c60ca",
   "metadata": {},
   "outputs": [
    {
     "name": "stdout",
     "output_type": "stream",
     "text": [
      "You've input a non-numeric value.\n"
     ]
    }
   ],
   "source": [
    "import math\n",
    "\n",
    "def circumference(diameter):\n",
    "    try:\n",
    "        return (math.pi * diameter)\n",
    "    except TypeError:\n",
    "        print(\"You've input a non-numeric value.\")\n",
    "\n",
    "circumference('you')"
   ]
  }
 ],
 "metadata": {
  "kernelspec": {
   "display_name": "dslearn",
   "language": "python",
   "name": "python3"
  },
  "language_info": {
   "codemirror_mode": {
    "name": "ipython",
    "version": 3
   },
   "file_extension": ".py",
   "mimetype": "text/x-python",
   "name": "python",
   "nbconvert_exporter": "python",
   "pygments_lexer": "ipython3",
   "version": "3.12.7"
  }
 },
 "nbformat": 4,
 "nbformat_minor": 5
}
