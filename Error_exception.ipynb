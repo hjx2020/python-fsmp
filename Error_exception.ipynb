{
 "cells": [
  {
   "cell_type": "markdown",
   "id": "85709070",
   "metadata": {},
   "source": [
    "# Error - Exception "
   ]
  },
  {
   "cell_type": "markdown",
   "id": "4e9a36c5",
   "metadata": {},
   "source": [
    "### 1. Zero Division Error\n"
   ]
  },
  {
   "cell_type": "code",
   "execution_count": 3,
   "id": "ddd64bbd",
   "metadata": {},
   "outputs": [
    {
     "name": "stdout",
     "output_type": "stream",
     "text": [
      "Please use a non-zero value for b!\n"
     ]
    }
   ],
   "source": [
    "def division_op(a, b):\n",
    "    try:\n",
    "        return a/b\n",
    "    except ZeroDivisionError:\n",
    "        print(\"Please use a non-zero value for b!\")\n",
    "\n",
    "division_op(2,0)\n"
   ]
  },
  {
   "cell_type": "markdown",
   "id": "fd1bc209",
   "metadata": {},
   "source": [
    "\n",
    "### 2. NameError\n"
   ]
  },
  {
   "cell_type": "code",
   "execution_count": null,
   "id": "a8892c8b",
   "metadata": {},
   "outputs": [
    {
     "name": "stdout",
     "output_type": "stream",
     "text": [
      "There's a value not defined\n",
      "None\n"
     ]
    }
   ],
   "source": [
    "def add_10():\n",
    "    try:\n",
    "        return x + 10\n",
    "    except NameError:\n",
    "        print(\"There's a value not defined\")\n",
    "\n",
    "# Test it\n",
    "print(add_10())"
   ]
  },
  {
   "cell_type": "markdown",
   "id": "3e5c1062",
   "metadata": {},
   "source": [
    "\n",
    "3- Please define a function and with this function, generate a ValueError exception simply by entering a string instead of numerical value.\n"
   ]
  },
  {
   "cell_type": "markdown",
   "id": "99f6926b",
   "metadata": {},
   "source": [
    "\n",
    "4- Write a function called circumference that takes the diameter of a circle as input and produces the circumference of the circle. Your function should use try...except to check for a type error in the event a string is passed.\n"
   ]
  }
 ],
 "metadata": {
  "kernelspec": {
   "display_name": "dslearn",
   "language": "python",
   "name": "python3"
  },
  "language_info": {
   "codemirror_mode": {
    "name": "ipython",
    "version": 3
   },
   "file_extension": ".py",
   "mimetype": "text/x-python",
   "name": "python",
   "nbconvert_exporter": "python",
   "pygments_lexer": "ipython3",
   "version": "3.12.7"
  }
 },
 "nbformat": 4,
 "nbformat_minor": 5
}
