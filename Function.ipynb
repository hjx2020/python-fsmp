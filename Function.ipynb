{
 "cells": [
  {
   "cell_type": "markdown",
   "id": "8919c999",
   "metadata": {},
   "source": [
    "<center>\n",
    "\n",
    "# Function Assignment\n",
    "\n",
    "### Hanjian Xu\n",
    "### Sep 28, 2025\n",
    "\n",
    "</center>"
   ]
  },
  {
   "cell_type": "markdown",
   "id": "f11ea593",
   "metadata": {},
   "source": [
    "## 1. Finding Prime Number\n",
    "\n",
    "A prime number is an integer greater than one that is only divisible by one and itself. Write a function that determines whether or not its parameter is prime, returning True if it is, and False otherwise. Write a main program that reads an integer from the user and displays a message indicating whether or not it is prime."
   ]
  },
  {
   "cell_type": "code",
   "execution_count": 25,
   "id": "66ad8b54",
   "metadata": {},
   "outputs": [],
   "source": [
    "def is_prime(num: int):\n",
    "    if num < 2:\n",
    "        return False\n",
    "    if num in (2, 3):\n",
    "        return True\n",
    "    else:\n",
    "        for i in range(2,int(num**0.5)+1):\n",
    "            if num % i == 0:\n",
    "                return False\n",
    "        return True"
   ]
  },
  {
   "cell_type": "markdown",
   "id": "81a69a5b",
   "metadata": {},
   "source": [
    "## 2. Rømer temperature\n",
    "\n",
    "You're writing an excruciatingly detailed alternate history novel set in a world where Daniel Gabriel Fahrenheit was never born.\n",
    "\n",
    "Since Fahrenheit never lived the world kept on using the Rømer scale, invented by fellow Dane Ole Rømer to this very day, skipping over the Fahrenheit and Celsius scales entirely.\n",
    "\n",
    "Your magnum opus contains several thousand references to temperature, but those temperatures are all currently in degrees Celsius. You don't want to convert everything by hand, so you've decided to write a function, celsius_to_romer that takes a temperature in degrees Celsius and returns the equivalent temperature in degrees Rømer.\n",
    "\n",
    "For example: celsius_to_romer(24) should return 20.1.\n"
   ]
  },
  {
   "cell_type": "code",
   "execution_count": 37,
   "id": "24337010",
   "metadata": {},
   "outputs": [
    {
     "data": {
      "text/plain": [
       "20.1"
      ]
     },
     "execution_count": 37,
     "metadata": {},
     "output_type": "execute_result"
    }
   ],
   "source": [
    "def celsius_to_romer(temperature: float):\n",
    "    return round(temperature * 21/40 + 7.5, 2)\n",
    "\n",
    "celsius_to_romer(24)"
   ]
  },
  {
   "cell_type": "markdown",
   "id": "1406f552",
   "metadata": {},
   "source": [
    "## 3. Pixelart planning\n",
    "\n",
    "You're laying out a rad pixel art mural to paint on your living room wall in homage to Paul Robertson, your favorite pixel artist.\n",
    "\n",
    "You want your work to be perfect down to the millimeter. You haven't decided on the dimensions of your piece, how large you want your pixels to be, or which wall you want to use. You just know that you want to fit an exact number of pixels.\n",
    "\n",
    "To help decide those things you've decided to write a function, is_divisible that will tell you whether a wall of a certain length can exactly fit an integer number of pixels of a certain length.\n",
    "\n",
    "Your function should take two arguments: the size of the wall in millimeters and the size of a pixel in millimeters. It should return True if you can fit an exact number of pixels on the wall, otherwise it should return False. For example is_divisible(4050, 27) should return True, but is_divisible(4066, 27) should return False.\n",
    "\n",
    "Note: you don't need to use an if statement here. Remember that in Python an expression using the == comparison operator will evaluate to either True or False:"
   ]
  },
  {
   "cell_type": "code",
   "execution_count": 43,
   "id": "5a428523",
   "metadata": {},
   "outputs": [
    {
     "name": "stdout",
     "output_type": "stream",
     "text": [
      "True\n",
      "False\n"
     ]
    }
   ],
   "source": [
    "def is_divisible(wall_length: int, pixel: int):\n",
    "    return wall_length % pixel == 0\n",
    "\n",
    "# examples\n",
    "print(is_divisible(4050, 27))\n",
    "print(is_divisible(4066,27))"
   ]
  }
 ],
 "metadata": {
  "kernelspec": {
   "display_name": "dslearn",
   "language": "python",
   "name": "python3"
  },
  "language_info": {
   "codemirror_mode": {
    "name": "ipython",
    "version": 3
   },
   "file_extension": ".py",
   "mimetype": "text/x-python",
   "name": "python",
   "nbconvert_exporter": "python",
   "pygments_lexer": "ipython3",
   "version": "3.12.7"
  }
 },
 "nbformat": 4,
 "nbformat_minor": 5
}
